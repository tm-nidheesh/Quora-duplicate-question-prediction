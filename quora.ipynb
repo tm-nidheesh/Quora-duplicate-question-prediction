{
 "cells": [
  {
   "cell_type": "code",
   "execution_count": 1,
   "id": "40ecf849",
   "metadata": {},
   "outputs": [],
   "source": [
    "import numpy as np\n",
    "import pandas as pd\n",
    "import seaborn as sns\n",
    "import matplotlib.pyplot as plt\n",
    "import warnings\n",
    "warnings.filterwarnings('ignore')"
   ]
  },
  {
   "cell_type": "code",
   "execution_count": 2,
   "id": "8045bae1",
   "metadata": {},
   "outputs": [],
   "source": [
    "df = pd.read_csv('questions.csv')"
   ]
  },
  {
   "cell_type": "code",
   "execution_count": 3,
   "id": "3a415cbe",
   "metadata": {},
   "outputs": [
    {
     "data": {
      "text/plain": [
       "(404351, 6)"
      ]
     },
     "execution_count": 3,
     "metadata": {},
     "output_type": "execute_result"
    }
   ],
   "source": [
    "df.shape"
   ]
  },
  {
   "cell_type": "code",
   "execution_count": 4,
   "id": "4d02d76f",
   "metadata": {},
   "outputs": [
    {
     "data": {
      "text/plain": [
       "Index(['id', 'qid1', 'qid2', 'question1', 'question2', 'is_duplicate'], dtype='object')"
      ]
     },
     "execution_count": 4,
     "metadata": {},
     "output_type": "execute_result"
    }
   ],
   "source": [
    "df.columns"
   ]
  },
  {
   "cell_type": "code",
   "execution_count": 5,
   "id": "79f1184c",
   "metadata": {},
   "outputs": [
    {
     "data": {
      "text/html": [
       "<div>\n",
       "<style scoped>\n",
       "    .dataframe tbody tr th:only-of-type {\n",
       "        vertical-align: middle;\n",
       "    }\n",
       "\n",
       "    .dataframe tbody tr th {\n",
       "        vertical-align: top;\n",
       "    }\n",
       "\n",
       "    .dataframe thead th {\n",
       "        text-align: right;\n",
       "    }\n",
       "</style>\n",
       "<table border=\"1\" class=\"dataframe\">\n",
       "  <thead>\n",
       "    <tr style=\"text-align: right;\">\n",
       "      <th></th>\n",
       "      <th>id</th>\n",
       "      <th>qid1</th>\n",
       "      <th>qid2</th>\n",
       "      <th>question1</th>\n",
       "      <th>question2</th>\n",
       "      <th>is_duplicate</th>\n",
       "    </tr>\n",
       "  </thead>\n",
       "  <tbody>\n",
       "    <tr>\n",
       "      <th>0</th>\n",
       "      <td>0</td>\n",
       "      <td>1</td>\n",
       "      <td>2</td>\n",
       "      <td>What is the step by step guide to invest in sh...</td>\n",
       "      <td>What is the step by step guide to invest in sh...</td>\n",
       "      <td>0</td>\n",
       "    </tr>\n",
       "    <tr>\n",
       "      <th>1</th>\n",
       "      <td>1</td>\n",
       "      <td>3</td>\n",
       "      <td>4</td>\n",
       "      <td>What is the story of Kohinoor (Koh-i-Noor) Dia...</td>\n",
       "      <td>What would happen if the Indian government sto...</td>\n",
       "      <td>0</td>\n",
       "    </tr>\n",
       "    <tr>\n",
       "      <th>2</th>\n",
       "      <td>2</td>\n",
       "      <td>5</td>\n",
       "      <td>6</td>\n",
       "      <td>How can I increase the speed of my internet co...</td>\n",
       "      <td>How can Internet speed be increased by hacking...</td>\n",
       "      <td>0</td>\n",
       "    </tr>\n",
       "    <tr>\n",
       "      <th>3</th>\n",
       "      <td>3</td>\n",
       "      <td>7</td>\n",
       "      <td>8</td>\n",
       "      <td>Why am I mentally very lonely? How can I solve...</td>\n",
       "      <td>Find the remainder when [math]23^{24}[/math] i...</td>\n",
       "      <td>0</td>\n",
       "    </tr>\n",
       "    <tr>\n",
       "      <th>4</th>\n",
       "      <td>4</td>\n",
       "      <td>9</td>\n",
       "      <td>10</td>\n",
       "      <td>Which one dissolve in water quikly sugar, salt...</td>\n",
       "      <td>Which fish would survive in salt water?</td>\n",
       "      <td>0</td>\n",
       "    </tr>\n",
       "  </tbody>\n",
       "</table>\n",
       "</div>"
      ],
      "text/plain": [
       "   id  qid1  qid2                                          question1  \\\n",
       "0   0     1     2  What is the step by step guide to invest in sh...   \n",
       "1   1     3     4  What is the story of Kohinoor (Koh-i-Noor) Dia...   \n",
       "2   2     5     6  How can I increase the speed of my internet co...   \n",
       "3   3     7     8  Why am I mentally very lonely? How can I solve...   \n",
       "4   4     9    10  Which one dissolve in water quikly sugar, salt...   \n",
       "\n",
       "                                           question2  is_duplicate  \n",
       "0  What is the step by step guide to invest in sh...             0  \n",
       "1  What would happen if the Indian government sto...             0  \n",
       "2  How can Internet speed be increased by hacking...             0  \n",
       "3  Find the remainder when [math]23^{24}[/math] i...             0  \n",
       "4            Which fish would survive in salt water?             0  "
      ]
     },
     "execution_count": 5,
     "metadata": {},
     "output_type": "execute_result"
    }
   ],
   "source": [
    "df.head()"
   ]
  },
  {
   "cell_type": "code",
   "execution_count": 6,
   "id": "3b3e57d5",
   "metadata": {},
   "outputs": [
    {
     "name": "stdout",
     "output_type": "stream",
     "text": [
      "<class 'pandas.core.frame.DataFrame'>\n",
      "RangeIndex: 404351 entries, 0 to 404350\n",
      "Data columns (total 6 columns):\n",
      " #   Column        Non-Null Count   Dtype \n",
      "---  ------        --------------   ----- \n",
      " 0   id            404351 non-null  int64 \n",
      " 1   qid1          404351 non-null  int64 \n",
      " 2   qid2          404351 non-null  int64 \n",
      " 3   question1     404350 non-null  object\n",
      " 4   question2     404349 non-null  object\n",
      " 5   is_duplicate  404351 non-null  int64 \n",
      "dtypes: int64(4), object(2)\n",
      "memory usage: 18.5+ MB\n"
     ]
    }
   ],
   "source": [
    "df.info()"
   ]
  },
  {
   "cell_type": "code",
   "execution_count": 7,
   "id": "d588fc8f",
   "metadata": {},
   "outputs": [
    {
     "data": {
      "text/html": [
       "<div>\n",
       "<style scoped>\n",
       "    .dataframe tbody tr th:only-of-type {\n",
       "        vertical-align: middle;\n",
       "    }\n",
       "\n",
       "    .dataframe tbody tr th {\n",
       "        vertical-align: top;\n",
       "    }\n",
       "\n",
       "    .dataframe thead th {\n",
       "        text-align: right;\n",
       "    }\n",
       "</style>\n",
       "<table border=\"1\" class=\"dataframe\">\n",
       "  <thead>\n",
       "    <tr style=\"text-align: right;\">\n",
       "      <th></th>\n",
       "      <th>id</th>\n",
       "      <th>qid1</th>\n",
       "      <th>qid2</th>\n",
       "      <th>question1</th>\n",
       "      <th>question2</th>\n",
       "      <th>is_duplicate</th>\n",
       "    </tr>\n",
       "  </thead>\n",
       "  <tbody>\n",
       "    <tr>\n",
       "      <th>376941</th>\n",
       "      <td>376941</td>\n",
       "      <td>737356</td>\n",
       "      <td>737357</td>\n",
       "      <td>How can I send original high quality photos on...</td>\n",
       "      <td>Can you send me a photo of your colourful eyes?</td>\n",
       "      <td>0</td>\n",
       "    </tr>\n",
       "    <tr>\n",
       "      <th>233151</th>\n",
       "      <td>233151</td>\n",
       "      <td>459357</td>\n",
       "      <td>459358</td>\n",
       "      <td>How can I learn English well？?</td>\n",
       "      <td>What I do if Iwant to learn English well?</td>\n",
       "      <td>1</td>\n",
       "    </tr>\n",
       "    <tr>\n",
       "      <th>186480</th>\n",
       "      <td>186480</td>\n",
       "      <td>368227</td>\n",
       "      <td>368228</td>\n",
       "      <td>How do I lose 30 kilos fast?</td>\n",
       "      <td>How can I lose body fat fast?</td>\n",
       "      <td>1</td>\n",
       "    </tr>\n",
       "    <tr>\n",
       "      <th>331609</th>\n",
       "      <td>331609</td>\n",
       "      <td>650261</td>\n",
       "      <td>650262</td>\n",
       "      <td>What do Pakistanis think about Myanmar?</td>\n",
       "      <td>What does Pakistanis think about this?</td>\n",
       "      <td>0</td>\n",
       "    </tr>\n",
       "    <tr>\n",
       "      <th>256143</th>\n",
       "      <td>256143</td>\n",
       "      <td>504167</td>\n",
       "      <td>504168</td>\n",
       "      <td>Which beloved historical figure would be despi...</td>\n",
       "      <td>I have been offered a job position as an ops d...</td>\n",
       "      <td>0</td>\n",
       "    </tr>\n",
       "    <tr>\n",
       "      <th>397955</th>\n",
       "      <td>397955</td>\n",
       "      <td>777576</td>\n",
       "      <td>777577</td>\n",
       "      <td>Cinema choopistha mama song meaning in hindi o...</td>\n",
       "      <td>How do I make sure I do not forget my close fr...</td>\n",
       "      <td>0</td>\n",
       "    </tr>\n",
       "    <tr>\n",
       "      <th>70538</th>\n",
       "      <td>70538</td>\n",
       "      <td>140201</td>\n",
       "      <td>140202</td>\n",
       "      <td>How do you replace your brake lever hoods?</td>\n",
       "      <td>How do I connect one lever with two front disc...</td>\n",
       "      <td>0</td>\n",
       "    </tr>\n",
       "    <tr>\n",
       "      <th>375011</th>\n",
       "      <td>375011</td>\n",
       "      <td>733683</td>\n",
       "      <td>733684</td>\n",
       "      <td>What distinguishes Marlboro Red cigarettes fro...</td>\n",
       "      <td>What are the best Marlboro cigarettes?</td>\n",
       "      <td>0</td>\n",
       "    </tr>\n",
       "    <tr>\n",
       "      <th>354399</th>\n",
       "      <td>354399</td>\n",
       "      <td>694137</td>\n",
       "      <td>44866</td>\n",
       "      <td>Which country owns the Moon?</td>\n",
       "      <td>Does anyone own the Moon?</td>\n",
       "      <td>0</td>\n",
       "    </tr>\n",
       "    <tr>\n",
       "      <th>229240</th>\n",
       "      <td>229240</td>\n",
       "      <td>451752</td>\n",
       "      <td>451753</td>\n",
       "      <td>What is the best way to do mediation?</td>\n",
       "      <td>What is the best way to mediate?</td>\n",
       "      <td>1</td>\n",
       "    </tr>\n",
       "  </tbody>\n",
       "</table>\n",
       "</div>"
      ],
      "text/plain": [
       "            id    qid1    qid2  \\\n",
       "376941  376941  737356  737357   \n",
       "233151  233151  459357  459358   \n",
       "186480  186480  368227  368228   \n",
       "331609  331609  650261  650262   \n",
       "256143  256143  504167  504168   \n",
       "397955  397955  777576  777577   \n",
       "70538    70538  140201  140202   \n",
       "375011  375011  733683  733684   \n",
       "354399  354399  694137   44866   \n",
       "229240  229240  451752  451753   \n",
       "\n",
       "                                                question1  \\\n",
       "376941  How can I send original high quality photos on...   \n",
       "233151                     How can I learn English well？?   \n",
       "186480                       How do I lose 30 kilos fast?   \n",
       "331609            What do Pakistanis think about Myanmar?   \n",
       "256143  Which beloved historical figure would be despi...   \n",
       "397955  Cinema choopistha mama song meaning in hindi o...   \n",
       "70538          How do you replace your brake lever hoods?   \n",
       "375011  What distinguishes Marlboro Red cigarettes fro...   \n",
       "354399                       Which country owns the Moon?   \n",
       "229240              What is the best way to do mediation?   \n",
       "\n",
       "                                                question2  is_duplicate  \n",
       "376941    Can you send me a photo of your colourful eyes?             0  \n",
       "233151          What I do if Iwant to learn English well?             1  \n",
       "186480                      How can I lose body fat fast?             1  \n",
       "331609             What does Pakistanis think about this?             0  \n",
       "256143  I have been offered a job position as an ops d...             0  \n",
       "397955  How do I make sure I do not forget my close fr...             0  \n",
       "70538   How do I connect one lever with two front disc...             0  \n",
       "375011             What are the best Marlboro cigarettes?             0  \n",
       "354399                          Does anyone own the Moon?             0  \n",
       "229240                   What is the best way to mediate?             1  "
      ]
     },
     "execution_count": 7,
     "metadata": {},
     "output_type": "execute_result"
    }
   ],
   "source": [
    "df.sample(10)"
   ]
  },
  {
   "cell_type": "code",
   "execution_count": 8,
   "id": "aa0b1124",
   "metadata": {},
   "outputs": [
    {
     "data": {
      "text/plain": [
       "id              0\n",
       "qid1            0\n",
       "qid2            0\n",
       "question1       1\n",
       "question2       2\n",
       "is_duplicate    0\n",
       "dtype: int64"
      ]
     },
     "execution_count": 8,
     "metadata": {},
     "output_type": "execute_result"
    }
   ],
   "source": [
    "#missing values\n",
    "df.isnull().sum()"
   ]
  },
  {
   "cell_type": "code",
   "execution_count": 9,
   "id": "0a2fa2b3",
   "metadata": {},
   "outputs": [
    {
     "data": {
      "text/plain": [
       "0"
      ]
     },
     "execution_count": 9,
     "metadata": {},
     "output_type": "execute_result"
    }
   ],
   "source": [
    "#duplicate rows\n",
    "df.duplicated().sum()"
   ]
  },
  {
   "cell_type": "code",
   "execution_count": 10,
   "id": "6fe2a00c",
   "metadata": {},
   "outputs": [
    {
     "data": {
      "text/plain": [
       "0    255045\n",
       "1    149306\n",
       "Name: is_duplicate, dtype: int64"
      ]
     },
     "execution_count": 10,
     "metadata": {},
     "output_type": "execute_result"
    }
   ],
   "source": [
    "#counts of duplicated and non duplicated questions\n",
    "df.is_duplicate.value_counts()"
   ]
  },
  {
   "cell_type": "code",
   "execution_count": 11,
   "id": "b74bb898",
   "metadata": {},
   "outputs": [
    {
     "data": {
      "text/plain": [
       "<AxesSubplot:xlabel='is_duplicate', ylabel='count'>"
      ]
     },
     "execution_count": 11,
     "metadata": {},
     "output_type": "execute_result"
    },
    {
     "data": {
      "image/png": "[encoded data removed]",
      "text/plain": [
       "<Figure size 432x288 with 1 Axes>"
      ]
     },
     "metadata": {
      "needs_background": "light"
     },
     "output_type": "display_data"
    }
   ],
   "source": [
    "sns.countplot(df.is_duplicate)"
   ]
  },
  {
   "cell_type": "code",
   "execution_count": 12,
   "id": "3d60da72",
   "metadata": {},
   "outputs": [
    {
     "name": "stdout",
     "output_type": "stream",
     "text": [
      "No of unique questions are  789801\n"
     ]
    }
   ],
   "source": [
    "#Repeated questions\n",
    "qid = pd.Series(df['qid1'].tolist() + df['qid2'].tolist())\n",
    "print(\"No of unique questions are \",np.unique(qid).shape[0])"
   ]
  },
  {
   "cell_type": "code",
   "execution_count": 13,
   "id": "486902d8",
   "metadata": {},
   "outputs": [
    {
     "name": "stdout",
     "output_type": "stream",
     "text": [
      "No of questions getting repeated 13698\n"
     ]
    }
   ],
   "source": [
    "x=qid.value_counts()>1\n",
    "print('No of questions getting repeated',x[x].shape[0])"
   ]
  },
  {
   "cell_type": "code",
   "execution_count": 14,
   "id": "9152b249",
   "metadata": {},
   "outputs": [
    {
     "data": {
      "image/png": "[encoded data removed]",
      "text/plain": [
       "<Figure size 432x288 with 1 Axes>"
      ]
     },
     "metadata": {
      "needs_background": "light"
     },
     "output_type": "display_data"
    }
   ],
   "source": [
    "#histogram of repeated questions\n",
    "\n",
    "plt.hist(qid.value_counts().values,bins=150)\n",
    "plt.yscale('log')\n",
    "plt.show()"
   ]
  },
  {
   "cell_type": "markdown",
   "id": "ef84bee9",
   "metadata": {},
   "source": [
    "# Observation"
   ]
  },
  {
   "cell_type": "markdown",
   "id": "865f2147",
   "metadata": {},
   "source": [
    "1.Dataset consist of more than 4 lakh data points.\n",
    "2.There is 1 missing value in question1 and 2 in question2.\n",
    "3.There are 789801 uniques questions and 13698 question which gets repeated.\n",
    "4.There are questions which gets repeated 50 times."
   ]
  },
  {
   "cell_type": "code",
   "execution_count": 18,
   "id": "40246f6d",
   "metadata": {},
   "outputs": [],
   "source": [
    "new_df = df.sample(30000,random_state=2)"
   ]
  },
  {
   "cell_type": "code",
   "execution_count": 19,
   "id": "6923b5d5",
   "metadata": {},
   "outputs": [
    {
     "data": {
      "text/html": [
       "<div>\n",
       "<style scoped>\n",
       "    .dataframe tbody tr th:only-of-type {\n",
       "        vertical-align: middle;\n",
       "    }\n",
       "\n",
       "    .dataframe tbody tr th {\n",
       "        vertical-align: top;\n",
       "    }\n",
       "\n",
       "    .dataframe thead th {\n",
       "        text-align: right;\n",
       "    }\n",
       "</style>\n",
       "<table border=\"1\" class=\"dataframe\">\n",
       "  <thead>\n",
       "    <tr style=\"text-align: right;\">\n",
       "      <th></th>\n",
       "      <th>id</th>\n",
       "      <th>qid1</th>\n",
       "      <th>qid2</th>\n",
       "      <th>question1</th>\n",
       "      <th>question2</th>\n",
       "      <th>is_duplicate</th>\n",
       "    </tr>\n",
       "  </thead>\n",
       "  <tbody>\n",
       "    <tr>\n",
       "      <th>339499</th>\n",
       "      <td>339499</td>\n",
       "      <td>665522</td>\n",
       "      <td>665523</td>\n",
       "      <td>Why was Cyrus Mistry removed as the Chairman o...</td>\n",
       "      <td>Why did the Tata Sons sacked Cyrus Mistry?</td>\n",
       "      <td>1</td>\n",
       "    </tr>\n",
       "    <tr>\n",
       "      <th>289521</th>\n",
       "      <td>289521</td>\n",
       "      <td>568878</td>\n",
       "      <td>568879</td>\n",
       "      <td>By what age would you think a man should be ma...</td>\n",
       "      <td>When my wrist is extended I feel a shock and b...</td>\n",
       "      <td>0</td>\n",
       "    </tr>\n",
       "    <tr>\n",
       "      <th>4665</th>\n",
       "      <td>4665</td>\n",
       "      <td>9325</td>\n",
       "      <td>9326</td>\n",
       "      <td>How would an arbitrageur seek to capitalize gi...</td>\n",
       "      <td>How would an arbitrageur seek to capitalize gi...</td>\n",
       "      <td>0</td>\n",
       "    </tr>\n",
       "    <tr>\n",
       "      <th>54203</th>\n",
       "      <td>54203</td>\n",
       "      <td>107861</td>\n",
       "      <td>107862</td>\n",
       "      <td>Why did Quora mark my question as incomplete?</td>\n",
       "      <td>Why does Quora detect my question as an incomp...</td>\n",
       "      <td>1</td>\n",
       "    </tr>\n",
       "    <tr>\n",
       "      <th>132566</th>\n",
       "      <td>132566</td>\n",
       "      <td>262554</td>\n",
       "      <td>91499</td>\n",
       "      <td>What is it like working with Pivotal Labs as a...</td>\n",
       "      <td>What's it like to work at Pivotal Labs?</td>\n",
       "      <td>0</td>\n",
       "    </tr>\n",
       "  </tbody>\n",
       "</table>\n",
       "</div>"
      ],
      "text/plain": [
       "            id    qid1    qid2  \\\n",
       "339499  339499  665522  665523   \n",
       "289521  289521  568878  568879   \n",
       "4665      4665    9325    9326   \n",
       "54203    54203  107861  107862   \n",
       "132566  132566  262554   91499   \n",
       "\n",
       "                                                question1  \\\n",
       "339499  Why was Cyrus Mistry removed as the Chairman o...   \n",
       "289521  By what age would you think a man should be ma...   \n",
       "4665    How would an arbitrageur seek to capitalize gi...   \n",
       "54203       Why did Quora mark my question as incomplete?   \n",
       "132566  What is it like working with Pivotal Labs as a...   \n",
       "\n",
       "                                                question2  is_duplicate  \n",
       "339499         Why did the Tata Sons sacked Cyrus Mistry?             1  \n",
       "289521  When my wrist is extended I feel a shock and b...             0  \n",
       "4665    How would an arbitrageur seek to capitalize gi...             0  \n",
       "54203   Why does Quora detect my question as an incomp...             1  \n",
       "132566            What's it like to work at Pivotal Labs?             0  "
      ]
     },
     "execution_count": 19,
     "metadata": {},
     "output_type": "execute_result"
    }
   ],
   "source": [
    "new_df.head()"
   ]
  },
  {
   "cell_type": "code",
   "execution_count": 20,
   "id": "c76e0f80",
   "metadata": {},
   "outputs": [
    {
     "data": {
      "text/plain": [
       "id              0\n",
       "qid1            0\n",
       "qid2            0\n",
       "question1       0\n",
       "question2       0\n",
       "is_duplicate    0\n",
       "dtype: int64"
      ]
     },
     "execution_count": 20,
     "metadata": {},
     "output_type": "execute_result"
    }
   ],
   "source": [
    "new_df.isnull().sum()"
   ]
  },
  {
   "cell_type": "code",
   "execution_count": 21,
   "id": "17c29f4d",
   "metadata": {},
   "outputs": [
    {
     "data": {
      "text/plain": [
       "0"
      ]
     },
     "execution_count": 21,
     "metadata": {},
     "output_type": "execute_result"
    }
   ],
   "source": [
    "new_df.duplicated().sum()"
   ]
  },
  {
   "cell_type": "code",
   "execution_count": 24,
   "id": "12df3df9",
   "metadata": {},
   "outputs": [
    {
     "name": "stdout",
     "output_type": "stream",
     "text": [
      "0    18918\n",
      "1    11082\n",
      "Name: is_duplicate, dtype: int64\n"
     ]
    }
   ],
   "source": [
    "print(new_df['is_duplicate'].value_counts())"
   ]
  },
  {
   "cell_type": "code",
   "execution_count": 34,
   "id": "3ccc9198",
   "metadata": {},
   "outputs": [
    {
     "data": {
      "text/plain": [
       "<AxesSubplot:xlabel='is_duplicate', ylabel='count'>"
      ]
     },
     "execution_count": 34,
     "metadata": {},
     "output_type": "execute_result"
    },
    {
     "data": {
      "image/png": "[encoded data removed]",
      "text/plain": [
       "<Figure size 432x288 with 1 Axes>"
      ]
     },
     "metadata": {
      "needs_background": "light"
     },
     "output_type": "display_data"
    }
   ],
   "source": [
    "sns.countplot(new_df['is_duplicate'])"
   ]
  },
  {
   "cell_type": "code",
   "execution_count": 38,
   "id": "861c145e",
   "metadata": {},
   "outputs": [
    {
     "name": "stdout",
     "output_type": "stream",
     "text": [
      "No of unique questions are  59795\n",
      "No of questions getting repeated 176\n"
     ]
    }
   ],
   "source": [
    "#Repeated questions\n",
    "qid1 = pd.Series(new_df['qid1'].tolist() + new_df['qid2'].tolist())\n",
    "print(\"No of unique questions are \",np.unique(qid1).shape[0])\n",
    "x1=qid1.value_counts()>1\n",
    "print('No of questions getting repeated',x1[x1].shape[0])"
   ]
  },
  {
   "cell_type": "code",
   "execution_count": 39,
   "id": "9be75b13",
   "metadata": {},
   "outputs": [
    {
     "data": {
      "image/png": "[encoded data removed]",
      "text/plain": [
       "<Figure size 432x288 with 1 Axes>"
      ]
     },
     "metadata": {
      "needs_background": "light"
     },
     "output_type": "display_data"
    }
   ],
   "source": [
    "plt.hist(qid1.value_counts().values,bins=150)\n",
    "plt.yscale('log')\n",
    "plt.show()"
   ]
  },
  {
   "cell_type": "code",
   "execution_count": 41,
   "id": "039f2a61",
   "metadata": {},
   "outputs": [],
   "source": [
    "new_df['q1_len'] = new_df['question1'].str.len()\n",
    "new_df['q2_len'] = new_df['question2'].str.len()"
   ]
  },
  {
   "cell_type": "code",
   "execution_count": 42,
   "id": "dabed338",
   "metadata": {},
   "outputs": [
    {
     "data": {
      "text/html": [
       "<div>\n",
       "<style scoped>\n",
       "    .dataframe tbody tr th:only-of-type {\n",
       "        vertical-align: middle;\n",
       "    }\n",
       "\n",
       "    .dataframe tbody tr th {\n",
       "        vertical-align: top;\n",
       "    }\n",
       "\n",
       "    .dataframe thead th {\n",
       "        text-align: right;\n",
       "    }\n",
       "</style>\n",
       "<table border=\"1\" class=\"dataframe\">\n",
       "  <thead>\n",
       "    <tr style=\"text-align: right;\">\n",
       "      <th></th>\n",
       "      <th>id</th>\n",
       "      <th>qid1</th>\n",
       "      <th>qid2</th>\n",
       "      <th>question1</th>\n",
       "      <th>question2</th>\n",
       "      <th>is_duplicate</th>\n",
       "      <th>q1_len</th>\n",
       "      <th>q2_len</th>\n",
       "    </tr>\n",
       "  </thead>\n",
       "  <tbody>\n",
       "    <tr>\n",
       "      <th>339499</th>\n",
       "      <td>339499</td>\n",
       "      <td>665522</td>\n",
       "      <td>665523</td>\n",
       "      <td>Why was Cyrus Mistry removed as the Chairman o...</td>\n",
       "      <td>Why did the Tata Sons sacked Cyrus Mistry?</td>\n",
       "      <td>1</td>\n",
       "      <td>58</td>\n",
       "      <td>42</td>\n",
       "    </tr>\n",
       "    <tr>\n",
       "      <th>289521</th>\n",
       "      <td>289521</td>\n",
       "      <td>568878</td>\n",
       "      <td>568879</td>\n",
       "      <td>By what age would you think a man should be ma...</td>\n",
       "      <td>When my wrist is extended I feel a shock and b...</td>\n",
       "      <td>0</td>\n",
       "      <td>52</td>\n",
       "      <td>105</td>\n",
       "    </tr>\n",
       "    <tr>\n",
       "      <th>4665</th>\n",
       "      <td>4665</td>\n",
       "      <td>9325</td>\n",
       "      <td>9326</td>\n",
       "      <td>How would an arbitrageur seek to capitalize gi...</td>\n",
       "      <td>How would an arbitrageur seek to capitalize gi...</td>\n",
       "      <td>0</td>\n",
       "      <td>125</td>\n",
       "      <td>124</td>\n",
       "    </tr>\n",
       "    <tr>\n",
       "      <th>54203</th>\n",
       "      <td>54203</td>\n",
       "      <td>107861</td>\n",
       "      <td>107862</td>\n",
       "      <td>Why did Quora mark my question as incomplete?</td>\n",
       "      <td>Why does Quora detect my question as an incomp...</td>\n",
       "      <td>1</td>\n",
       "      <td>45</td>\n",
       "      <td>60</td>\n",
       "    </tr>\n",
       "    <tr>\n",
       "      <th>132566</th>\n",
       "      <td>132566</td>\n",
       "      <td>262554</td>\n",
       "      <td>91499</td>\n",
       "      <td>What is it like working with Pivotal Labs as a...</td>\n",
       "      <td>What's it like to work at Pivotal Labs?</td>\n",
       "      <td>0</td>\n",
       "      <td>54</td>\n",
       "      <td>39</td>\n",
       "    </tr>\n",
       "  </tbody>\n",
       "</table>\n",
       "</div>"
      ],
      "text/plain": [
       "            id    qid1    qid2  \\\n",
       "339499  339499  665522  665523   \n",
       "289521  289521  568878  568879   \n",
       "4665      4665    9325    9326   \n",
       "54203    54203  107861  107862   \n",
       "132566  132566  262554   91499   \n",
       "\n",
       "                                                question1  \\\n",
       "339499  Why was Cyrus Mistry removed as the Chairman o...   \n",
       "289521  By what age would you think a man should be ma...   \n",
       "4665    How would an arbitrageur seek to capitalize gi...   \n",
       "54203       Why did Quora mark my question as incomplete?   \n",
       "132566  What is it like working with Pivotal Labs as a...   \n",
       "\n",
       "                                                question2  is_duplicate  \\\n",
       "339499         Why did the Tata Sons sacked Cyrus Mistry?             1   \n",
       "289521  When my wrist is extended I feel a shock and b...             0   \n",
       "4665    How would an arbitrageur seek to capitalize gi...             0   \n",
       "54203   Why does Quora detect my question as an incomp...             1   \n",
       "132566            What's it like to work at Pivotal Labs?             0   \n",
       "\n",
       "        q1_len  q2_len  \n",
       "339499      58      42  \n",
       "289521      52     105  \n",
       "4665       125     124  \n",
       "54203       45      60  \n",
       "132566      54      39  "
      ]
     },
     "execution_count": 42,
     "metadata": {},
     "output_type": "execute_result"
    }
   ],
   "source": [
    "new_df.head()"
   ]
  },
  {
   "cell_type": "code",
   "execution_count": 43,
   "id": "db6e9f5a",
   "metadata": {},
   "outputs": [],
   "source": [
    "new_df['q1_num_words'] = new_df['question1'].apply(lambda row:len(row.split(' ')))\n",
    "new_df['q2_num_words'] = new_df['question2'].apply(lambda row:len(row.split(' ')))"
   ]
  },
  {
   "cell_type": "code",
   "execution_count": 44,
   "id": "097cfe9b",
   "metadata": {},
   "outputs": [
    {
     "data": {
      "text/html": [
       "<div>\n",
       "<style scoped>\n",
       "    .dataframe tbody tr th:only-of-type {\n",
       "        vertical-align: middle;\n",
       "    }\n",
       "\n",
       "    .dataframe tbody tr th {\n",
       "        vertical-align: top;\n",
       "    }\n",
       "\n",
       "    .dataframe thead th {\n",
       "        text-align: right;\n",
       "    }\n",
       "</style>\n",
       "<table border=\"1\" class=\"dataframe\">\n",
       "  <thead>\n",
       "    <tr style=\"text-align: right;\">\n",
       "      <th></th>\n",
       "      <th>id</th>\n",
       "      <th>qid1</th>\n",
       "      <th>qid2</th>\n",
       "      <th>question1</th>\n",
       "      <th>question2</th>\n",
       "      <th>is_duplicate</th>\n",
       "      <th>q1_len</th>\n",
       "      <th>q2_len</th>\n",
       "      <th>q1_num_words</th>\n",
       "      <th>q2_num_words</th>\n",
       "    </tr>\n",
       "  </thead>\n",
       "  <tbody>\n",
       "    <tr>\n",
       "      <th>339499</th>\n",
       "      <td>339499</td>\n",
       "      <td>665522</td>\n",
       "      <td>665523</td>\n",
       "      <td>Why was Cyrus Mistry removed as the Chairman o...</td>\n",
       "      <td>Why did the Tata Sons sacked Cyrus Mistry?</td>\n",
       "      <td>1</td>\n",
       "      <td>58</td>\n",
       "      <td>42</td>\n",
       "      <td>11</td>\n",
       "      <td>8</td>\n",
       "    </tr>\n",
       "    <tr>\n",
       "      <th>289521</th>\n",
       "      <td>289521</td>\n",
       "      <td>568878</td>\n",
       "      <td>568879</td>\n",
       "      <td>By what age would you think a man should be ma...</td>\n",
       "      <td>When my wrist is extended I feel a shock and b...</td>\n",
       "      <td>0</td>\n",
       "      <td>52</td>\n",
       "      <td>105</td>\n",
       "      <td>11</td>\n",
       "      <td>22</td>\n",
       "    </tr>\n",
       "    <tr>\n",
       "      <th>4665</th>\n",
       "      <td>4665</td>\n",
       "      <td>9325</td>\n",
       "      <td>9326</td>\n",
       "      <td>How would an arbitrageur seek to capitalize gi...</td>\n",
       "      <td>How would an arbitrageur seek to capitalize gi...</td>\n",
       "      <td>0</td>\n",
       "      <td>125</td>\n",
       "      <td>124</td>\n",
       "      <td>24</td>\n",
       "      <td>24</td>\n",
       "    </tr>\n",
       "    <tr>\n",
       "      <th>54203</th>\n",
       "      <td>54203</td>\n",
       "      <td>107861</td>\n",
       "      <td>107862</td>\n",
       "      <td>Why did Quora mark my question as incomplete?</td>\n",
       "      <td>Why does Quora detect my question as an incomp...</td>\n",
       "      <td>1</td>\n",
       "      <td>45</td>\n",
       "      <td>60</td>\n",
       "      <td>8</td>\n",
       "      <td>10</td>\n",
       "    </tr>\n",
       "    <tr>\n",
       "      <th>132566</th>\n",
       "      <td>132566</td>\n",
       "      <td>262554</td>\n",
       "      <td>91499</td>\n",
       "      <td>What is it like working with Pivotal Labs as a...</td>\n",
       "      <td>What's it like to work at Pivotal Labs?</td>\n",
       "      <td>0</td>\n",
       "      <td>54</td>\n",
       "      <td>39</td>\n",
       "      <td>11</td>\n",
       "      <td>8</td>\n",
       "    </tr>\n",
       "  </tbody>\n",
       "</table>\n",
       "</div>"
      ],
      "text/plain": [
       "            id    qid1    qid2  \\\n",
       "339499  339499  665522  665523   \n",
       "289521  289521  568878  568879   \n",
       "4665      4665    9325    9326   \n",
       "54203    54203  107861  107862   \n",
       "132566  132566  262554   91499   \n",
       "\n",
       "                                                question1  \\\n",
       "339499  Why was Cyrus Mistry removed as the Chairman o...   \n",
       "289521  By what age would you think a man should be ma...   \n",
       "4665    How would an arbitrageur seek to capitalize gi...   \n",
       "54203       Why did Quora mark my question as incomplete?   \n",
       "132566  What is it like working with Pivotal Labs as a...   \n",
       "\n",
       "                                                question2  is_duplicate  \\\n",
       "339499         Why did the Tata Sons sacked Cyrus Mistry?             1   \n",
       "289521  When my wrist is extended I feel a shock and b...             0   \n",
       "4665    How would an arbitrageur seek to capitalize gi...             0   \n",
       "54203   Why does Quora detect my question as an incomp...             1   \n",
       "132566            What's it like to work at Pivotal Labs?             0   \n",
       "\n",
       "        q1_len  q2_len  q1_num_words  q2_num_words  \n",
       "339499      58      42            11             8  \n",
       "289521      52     105            11            22  \n",
       "4665       125     124            24            24  \n",
       "54203       45      60             8            10  \n",
       "132566      54      39            11             8  "
      ]
     },
     "execution_count": 44,
     "metadata": {},
     "output_type": "execute_result"
    }
   ],
   "source": [
    "new_df.head()"
   ]
  },
  {
   "cell_type": "code",
   "execution_count": 45,
   "id": "56b81127",
   "metadata": {},
   "outputs": [],
   "source": [
    "def common_words(row):\n",
    "    w1=set(map(lambda word:word.lower().strip(), row['question1'].strip(\" \")))\n",
    "    w2=set(map(lambda word:word.lower().strip(), row['question2'].strip(\" \")))\n",
    "    return len(w1 & w2)"
   ]
  },
  {
   "cell_type": "code",
   "execution_count": 46,
   "id": "bfa94c3a",
   "metadata": {},
   "outputs": [],
   "source": [
    "new_df['words_common'] = new_df.apply(common_words,axis=1)"
   ]
  },
  {
   "cell_type": "code",
   "execution_count": 47,
   "id": "774e4006",
   "metadata": {},
   "outputs": [
    {
     "data": {
      "text/html": [
       "<div>\n",
       "<style scoped>\n",
       "    .dataframe tbody tr th:only-of-type {\n",
       "        vertical-align: middle;\n",
       "    }\n",
       "\n",
       "    .dataframe tbody tr th {\n",
       "        vertical-align: top;\n",
       "    }\n",
       "\n",
       "    .dataframe thead th {\n",
       "        text-align: right;\n",
       "    }\n",
       "</style>\n",
       "<table border=\"1\" class=\"dataframe\">\n",
       "  <thead>\n",
       "    <tr style=\"text-align: right;\">\n",
       "      <th></th>\n",
       "      <th>id</th>\n",
       "      <th>qid1</th>\n",
       "      <th>qid2</th>\n",
       "      <th>question1</th>\n",
       "      <th>question2</th>\n",
       "      <th>is_duplicate</th>\n",
       "      <th>q1_len</th>\n",
       "      <th>q2_len</th>\n",
       "      <th>q1_num_words</th>\n",
       "      <th>q2_num_words</th>\n",
       "      <th>words_common</th>\n",
       "    </tr>\n",
       "  </thead>\n",
       "  <tbody>\n",
       "    <tr>\n",
       "      <th>339499</th>\n",
       "      <td>339499</td>\n",
       "      <td>665522</td>\n",
       "      <td>665523</td>\n",
       "      <td>Why was Cyrus Mistry removed as the Chairman o...</td>\n",
       "      <td>Why did the Tata Sons sacked Cyrus Mistry?</td>\n",
       "      <td>1</td>\n",
       "      <td>58</td>\n",
       "      <td>42</td>\n",
       "      <td>11</td>\n",
       "      <td>8</td>\n",
       "      <td>17</td>\n",
       "    </tr>\n",
       "    <tr>\n",
       "      <th>289521</th>\n",
       "      <td>289521</td>\n",
       "      <td>568878</td>\n",
       "      <td>568879</td>\n",
       "      <td>By what age would you think a man should be ma...</td>\n",
       "      <td>When my wrist is extended I feel a shock and b...</td>\n",
       "      <td>0</td>\n",
       "      <td>52</td>\n",
       "      <td>105</td>\n",
       "      <td>11</td>\n",
       "      <td>22</td>\n",
       "      <td>20</td>\n",
       "    </tr>\n",
       "    <tr>\n",
       "      <th>4665</th>\n",
       "      <td>4665</td>\n",
       "      <td>9325</td>\n",
       "      <td>9326</td>\n",
       "      <td>How would an arbitrageur seek to capitalize gi...</td>\n",
       "      <td>How would an arbitrageur seek to capitalize gi...</td>\n",
       "      <td>0</td>\n",
       "      <td>125</td>\n",
       "      <td>124</td>\n",
       "      <td>24</td>\n",
       "      <td>24</td>\n",
       "      <td>33</td>\n",
       "    </tr>\n",
       "    <tr>\n",
       "      <th>54203</th>\n",
       "      <td>54203</td>\n",
       "      <td>107861</td>\n",
       "      <td>107862</td>\n",
       "      <td>Why did Quora mark my question as incomplete?</td>\n",
       "      <td>Why does Quora detect my question as an incomp...</td>\n",
       "      <td>1</td>\n",
       "      <td>45</td>\n",
       "      <td>60</td>\n",
       "      <td>8</td>\n",
       "      <td>10</td>\n",
       "      <td>20</td>\n",
       "    </tr>\n",
       "    <tr>\n",
       "      <th>132566</th>\n",
       "      <td>132566</td>\n",
       "      <td>262554</td>\n",
       "      <td>91499</td>\n",
       "      <td>What is it like working with Pivotal Labs as a...</td>\n",
       "      <td>What's it like to work at Pivotal Labs?</td>\n",
       "      <td>0</td>\n",
       "      <td>54</td>\n",
       "      <td>39</td>\n",
       "      <td>11</td>\n",
       "      <td>8</td>\n",
       "      <td>16</td>\n",
       "    </tr>\n",
       "  </tbody>\n",
       "</table>\n",
       "</div>"
      ],
      "text/plain": [
       "            id    qid1    qid2  \\\n",
       "339499  339499  665522  665523   \n",
       "289521  289521  568878  568879   \n",
       "4665      4665    9325    9326   \n",
       "54203    54203  107861  107862   \n",
       "132566  132566  262554   91499   \n",
       "\n",
       "                                                question1  \\\n",
       "339499  Why was Cyrus Mistry removed as the Chairman o...   \n",
       "289521  By what age would you think a man should be ma...   \n",
       "4665    How would an arbitrageur seek to capitalize gi...   \n",
       "54203       Why did Quora mark my question as incomplete?   \n",
       "132566  What is it like working with Pivotal Labs as a...   \n",
       "\n",
       "                                                question2  is_duplicate  \\\n",
       "339499         Why did the Tata Sons sacked Cyrus Mistry?             1   \n",
       "289521  When my wrist is extended I feel a shock and b...             0   \n",
       "4665    How would an arbitrageur seek to capitalize gi...             0   \n",
       "54203   Why does Quora detect my question as an incomp...             1   \n",
       "132566            What's it like to work at Pivotal Labs?             0   \n",
       "\n",
       "        q1_len  q2_len  q1_num_words  q2_num_words  words_common  \n",
       "339499      58      42            11             8            17  \n",
       "289521      52     105            11            22            20  \n",
       "4665       125     124            24            24            33  \n",
       "54203       45      60             8            10            20  \n",
       "132566      54      39            11             8            16  "
      ]
     },
     "execution_count": 47,
     "metadata": {},
     "output_type": "execute_result"
    }
   ],
   "source": [
    "new_df.head()"
   ]
  },
  {
   "cell_type": "code",
   "execution_count": 48,
   "id": "6c13cf6b",
   "metadata": {},
   "outputs": [],
   "source": [
    "def total_words(row):\n",
    "    w1=set(map(lambda word:word.lower().strip(), row['question1'].strip(\" \")))\n",
    "    w2=set(map(lambda word:word.lower().strip(), row['question2'].strip(\" \")))\n",
    "    return (len(w1) + len(w2))"
   ]
  },
  {
   "cell_type": "code",
   "execution_count": 49,
   "id": "5e5c6b0f",
   "metadata": {},
   "outputs": [],
   "source": [
    "new_df['words_total'] = new_df.apply(total_words,axis=1)"
   ]
  },
  {
   "cell_type": "code",
   "execution_count": 50,
   "id": "4b299d53",
   "metadata": {},
   "outputs": [
    {
     "data": {
      "text/html": [
       "<div>\n",
       "<style scoped>\n",
       "    .dataframe tbody tr th:only-of-type {\n",
       "        vertical-align: middle;\n",
       "    }\n",
       "\n",
       "    .dataframe tbody tr th {\n",
       "        vertical-align: top;\n",
       "    }\n",
       "\n",
       "    .dataframe thead th {\n",
       "        text-align: right;\n",
       "    }\n",
       "</style>\n",
       "<table border=\"1\" class=\"dataframe\">\n",
       "  <thead>\n",
       "    <tr style=\"text-align: right;\">\n",
       "      <th></th>\n",
       "      <th>id</th>\n",
       "      <th>qid1</th>\n",
       "      <th>qid2</th>\n",
       "      <th>question1</th>\n",
       "      <th>question2</th>\n",
       "      <th>is_duplicate</th>\n",
       "      <th>q1_len</th>\n",
       "      <th>q2_len</th>\n",
       "      <th>q1_num_words</th>\n",
       "      <th>q2_num_words</th>\n",
       "      <th>words_common</th>\n",
       "      <th>words_total</th>\n",
       "    </tr>\n",
       "  </thead>\n",
       "  <tbody>\n",
       "    <tr>\n",
       "      <th>339499</th>\n",
       "      <td>339499</td>\n",
       "      <td>665522</td>\n",
       "      <td>665523</td>\n",
       "      <td>Why was Cyrus Mistry removed as the Chairman o...</td>\n",
       "      <td>Why did the Tata Sons sacked Cyrus Mistry?</td>\n",
       "      <td>1</td>\n",
       "      <td>58</td>\n",
       "      <td>42</td>\n",
       "      <td>11</td>\n",
       "      <td>8</td>\n",
       "      <td>17</td>\n",
       "      <td>37</td>\n",
       "    </tr>\n",
       "    <tr>\n",
       "      <th>289521</th>\n",
       "      <td>289521</td>\n",
       "      <td>568878</td>\n",
       "      <td>568879</td>\n",
       "      <td>By what age would you think a man should be ma...</td>\n",
       "      <td>When my wrist is extended I feel a shock and b...</td>\n",
       "      <td>0</td>\n",
       "      <td>52</td>\n",
       "      <td>105</td>\n",
       "      <td>11</td>\n",
       "      <td>22</td>\n",
       "      <td>20</td>\n",
       "      <td>44</td>\n",
       "    </tr>\n",
       "    <tr>\n",
       "      <th>4665</th>\n",
       "      <td>4665</td>\n",
       "      <td>9325</td>\n",
       "      <td>9326</td>\n",
       "      <td>How would an arbitrageur seek to capitalize gi...</td>\n",
       "      <td>How would an arbitrageur seek to capitalize gi...</td>\n",
       "      <td>0</td>\n",
       "      <td>125</td>\n",
       "      <td>124</td>\n",
       "      <td>24</td>\n",
       "      <td>24</td>\n",
       "      <td>33</td>\n",
       "      <td>66</td>\n",
       "    </tr>\n",
       "    <tr>\n",
       "      <th>54203</th>\n",
       "      <td>54203</td>\n",
       "      <td>107861</td>\n",
       "      <td>107862</td>\n",
       "      <td>Why did Quora mark my question as incomplete?</td>\n",
       "      <td>Why does Quora detect my question as an incomp...</td>\n",
       "      <td>1</td>\n",
       "      <td>45</td>\n",
       "      <td>60</td>\n",
       "      <td>8</td>\n",
       "      <td>10</td>\n",
       "      <td>20</td>\n",
       "      <td>41</td>\n",
       "    </tr>\n",
       "    <tr>\n",
       "      <th>132566</th>\n",
       "      <td>132566</td>\n",
       "      <td>262554</td>\n",
       "      <td>91499</td>\n",
       "      <td>What is it like working with Pivotal Labs as a...</td>\n",
       "      <td>What's it like to work at Pivotal Labs?</td>\n",
       "      <td>0</td>\n",
       "      <td>54</td>\n",
       "      <td>39</td>\n",
       "      <td>11</td>\n",
       "      <td>8</td>\n",
       "      <td>16</td>\n",
       "      <td>36</td>\n",
       "    </tr>\n",
       "  </tbody>\n",
       "</table>\n",
       "</div>"
      ],
      "text/plain": [
       "            id    qid1    qid2  \\\n",
       "339499  339499  665522  665523   \n",
       "289521  289521  568878  568879   \n",
       "4665      4665    9325    9326   \n",
       "54203    54203  107861  107862   \n",
       "132566  132566  262554   91499   \n",
       "\n",
       "                                                question1  \\\n",
       "339499  Why was Cyrus Mistry removed as the Chairman o...   \n",
       "289521  By what age would you think a man should be ma...   \n",
       "4665    How would an arbitrageur seek to capitalize gi...   \n",
       "54203       Why did Quora mark my question as incomplete?   \n",
       "132566  What is it like working with Pivotal Labs as a...   \n",
       "\n",
       "                                                question2  is_duplicate  \\\n",
       "339499         Why did the Tata Sons sacked Cyrus Mistry?             1   \n",
       "289521  When my wrist is extended I feel a shock and b...             0   \n",
       "4665    How would an arbitrageur seek to capitalize gi...             0   \n",
       "54203   Why does Quora detect my question as an incomp...             1   \n",
       "132566            What's it like to work at Pivotal Labs?             0   \n",
       "\n",
       "        q1_len  q2_len  q1_num_words  q2_num_words  words_common  words_total  \n",
       "339499      58      42            11             8            17           37  \n",
       "289521      52     105            11            22            20           44  \n",
       "4665       125     124            24            24            33           66  \n",
       "54203       45      60             8            10            20           41  \n",
       "132566      54      39            11             8            16           36  "
      ]
     },
     "execution_count": 50,
     "metadata": {},
     "output_type": "execute_result"
    }
   ],
   "source": [
    "new_df.head()"
   ]
  },
  {
   "cell_type": "code",
   "execution_count": 51,
   "id": "9b4ea590",
   "metadata": {},
   "outputs": [],
   "source": [
    "new_df['word_share'] = round(new_df['words_common']/new_df['words_total'],2)"
   ]
  },
  {
   "cell_type": "code",
   "execution_count": 52,
   "id": "08858e64",
   "metadata": {},
   "outputs": [
    {
     "data": {
      "text/html": [
       "<div>\n",
       "<style scoped>\n",
       "    .dataframe tbody tr th:only-of-type {\n",
       "        vertical-align: middle;\n",
       "    }\n",
       "\n",
       "    .dataframe tbody tr th {\n",
       "        vertical-align: top;\n",
       "    }\n",
       "\n",
       "    .dataframe thead th {\n",
       "        text-align: right;\n",
       "    }\n",
       "</style>\n",
       "<table border=\"1\" class=\"dataframe\">\n",
       "  <thead>\n",
       "    <tr style=\"text-align: right;\">\n",
       "      <th></th>\n",
       "      <th>id</th>\n",
       "      <th>qid1</th>\n",
       "      <th>qid2</th>\n",
       "      <th>question1</th>\n",
       "      <th>question2</th>\n",
       "      <th>is_duplicate</th>\n",
       "      <th>q1_len</th>\n",
       "      <th>q2_len</th>\n",
       "      <th>q1_num_words</th>\n",
       "      <th>q2_num_words</th>\n",
       "      <th>words_common</th>\n",
       "      <th>words_total</th>\n",
       "      <th>word_share</th>\n",
       "    </tr>\n",
       "  </thead>\n",
       "  <tbody>\n",
       "    <tr>\n",
       "      <th>339499</th>\n",
       "      <td>339499</td>\n",
       "      <td>665522</td>\n",
       "      <td>665523</td>\n",
       "      <td>Why was Cyrus Mistry removed as the Chairman o...</td>\n",
       "      <td>Why did the Tata Sons sacked Cyrus Mistry?</td>\n",
       "      <td>1</td>\n",
       "      <td>58</td>\n",
       "      <td>42</td>\n",
       "      <td>11</td>\n",
       "      <td>8</td>\n",
       "      <td>17</td>\n",
       "      <td>37</td>\n",
       "      <td>0.46</td>\n",
       "    </tr>\n",
       "    <tr>\n",
       "      <th>289521</th>\n",
       "      <td>289521</td>\n",
       "      <td>568878</td>\n",
       "      <td>568879</td>\n",
       "      <td>By what age would you think a man should be ma...</td>\n",
       "      <td>When my wrist is extended I feel a shock and b...</td>\n",
       "      <td>0</td>\n",
       "      <td>52</td>\n",
       "      <td>105</td>\n",
       "      <td>11</td>\n",
       "      <td>22</td>\n",
       "      <td>20</td>\n",
       "      <td>44</td>\n",
       "      <td>0.45</td>\n",
       "    </tr>\n",
       "    <tr>\n",
       "      <th>4665</th>\n",
       "      <td>4665</td>\n",
       "      <td>9325</td>\n",
       "      <td>9326</td>\n",
       "      <td>How would an arbitrageur seek to capitalize gi...</td>\n",
       "      <td>How would an arbitrageur seek to capitalize gi...</td>\n",
       "      <td>0</td>\n",
       "      <td>125</td>\n",
       "      <td>124</td>\n",
       "      <td>24</td>\n",
       "      <td>24</td>\n",
       "      <td>33</td>\n",
       "      <td>66</td>\n",
       "      <td>0.50</td>\n",
       "    </tr>\n",
       "    <tr>\n",
       "      <th>54203</th>\n",
       "      <td>54203</td>\n",
       "      <td>107861</td>\n",
       "      <td>107862</td>\n",
       "      <td>Why did Quora mark my question as incomplete?</td>\n",
       "      <td>Why does Quora detect my question as an incomp...</td>\n",
       "      <td>1</td>\n",
       "      <td>45</td>\n",
       "      <td>60</td>\n",
       "      <td>8</td>\n",
       "      <td>10</td>\n",
       "      <td>20</td>\n",
       "      <td>41</td>\n",
       "      <td>0.49</td>\n",
       "    </tr>\n",
       "    <tr>\n",
       "      <th>132566</th>\n",
       "      <td>132566</td>\n",
       "      <td>262554</td>\n",
       "      <td>91499</td>\n",
       "      <td>What is it like working with Pivotal Labs as a...</td>\n",
       "      <td>What's it like to work at Pivotal Labs?</td>\n",
       "      <td>0</td>\n",
       "      <td>54</td>\n",
       "      <td>39</td>\n",
       "      <td>11</td>\n",
       "      <td>8</td>\n",
       "      <td>16</td>\n",
       "      <td>36</td>\n",
       "      <td>0.44</td>\n",
       "    </tr>\n",
       "  </tbody>\n",
       "</table>\n",
       "</div>"
      ],
      "text/plain": [
       "            id    qid1    qid2  \\\n",
       "339499  339499  665522  665523   \n",
       "289521  289521  568878  568879   \n",
       "4665      4665    9325    9326   \n",
       "54203    54203  107861  107862   \n",
       "132566  132566  262554   91499   \n",
       "\n",
       "                                                question1  \\\n",
       "339499  Why was Cyrus Mistry removed as the Chairman o...   \n",
       "289521  By what age would you think a man should be ma...   \n",
       "4665    How would an arbitrageur seek to capitalize gi...   \n",
       "54203       Why did Quora mark my question as incomplete?   \n",
       "132566  What is it like working with Pivotal Labs as a...   \n",
       "\n",
       "                                                question2  is_duplicate  \\\n",
       "339499         Why did the Tata Sons sacked Cyrus Mistry?             1   \n",
       "289521  When my wrist is extended I feel a shock and b...             0   \n",
       "4665    How would an arbitrageur seek to capitalize gi...             0   \n",
       "54203   Why does Quora detect my question as an incomp...             1   \n",
       "132566            What's it like to work at Pivotal Labs?             0   \n",
       "\n",
       "        q1_len  q2_len  q1_num_words  q2_num_words  words_common  words_total  \\\n",
       "339499      58      42            11             8            17           37   \n",
       "289521      52     105            11            22            20           44   \n",
       "4665       125     124            24            24            33           66   \n",
       "54203       45      60             8            10            20           41   \n",
       "132566      54      39            11             8            16           36   \n",
       "\n",
       "        word_share  \n",
       "339499        0.46  \n",
       "289521        0.45  \n",
       "4665          0.50  \n",
       "54203         0.49  \n",
       "132566        0.44  "
      ]
     },
     "execution_count": 52,
     "metadata": {},
     "output_type": "execute_result"
    }
   ],
   "source": [
    "new_df.head()"
   ]
  },
  {
   "cell_type": "code",
   "execution_count": 56,
   "id": "0547bc4a",
   "metadata": {},
   "outputs": [
    {
     "name": "stdout",
     "output_type": "stream",
     "text": [
      "Minimum no of characters : 2\n",
      "Maximum no of characters : 332\n",
      "Average no of characters : 59.63786666666667\n"
     ]
    },
    {
     "data": {
      "image/png": "[encoded data removed]",
      "text/plain": [
       "<Figure size 432x288 with 1 Axes>"
      ]
     },
     "metadata": {
      "needs_background": "light"
     },
     "output_type": "display_data"
    }
   ],
   "source": [
    "sns.distplot(new_df['q1_len'])\n",
    "print(\"Minimum no of characters :\",new_df['q1_len'].min())\n",
    "print(\"Maximum no of characters :\",new_df['q1_len'].max())\n",
    "print(\"Average no of characters :\",new_df['q1_len'].mean())"
   ]
  },
  {
   "cell_type": "code",
   "execution_count": 58,
   "id": "bede714f",
   "metadata": {},
   "outputs": [
    {
     "name": "stdout",
     "output_type": "stream",
     "text": [
      "Minimum no of characters : 3\n",
      "Maximum no of characters : 1151\n",
      "Average no of characters : 59.95153333333333\n"
     ]
    },
    {
     "data": {
      "image/png": "[encoded data removed]",
      "text/plain": [
       "<Figure size 432x288 with 1 Axes>"
      ]
     },
     "metadata": {
      "needs_background": "light"
     },
     "output_type": "display_data"
    }
   ],
   "source": [
    "sns.distplot(new_df['q2_len'])\n",
    "print(\"Minimum no of characters :\",new_df['q2_len'].min())\n",
    "print(\"Maximum no of characters :\",new_df['q2_len'].max())\n",
    "print(\"Average no of characters :\",new_df['q2_len'].mean())"
   ]
  },
  {
   "cell_type": "code",
   "execution_count": 61,
   "id": "f9a3d230",
   "metadata": {},
   "outputs": [
    {
     "data": {
      "image/png": "[encoded data removed]",
      "text/plain": [
       "<Figure size 432x288 with 1 Axes>"
      ]
     },
     "metadata": {
      "needs_background": "light"
     },
     "output_type": "display_data"
    }
   ],
   "source": [
    "#common words\n",
    "sns.distplot(new_df[new_df['is_duplicate']==0]['words_common'],label='Not duplicate')\n",
    "sns.distplot(new_df[new_df['is_duplicate']==1]['words_common'],label='Duplicate')\n",
    "plt.legend()\n",
    "plt.show()"
   ]
  },
  {
   "cell_type": "code",
   "execution_count": 62,
   "id": "f37ced44",
   "metadata": {},
   "outputs": [
    {
     "data": {
      "image/png": "[encoded data removed]",
      "text/plain": [
       "<Figure size 432x288 with 1 Axes>"
      ]
     },
     "metadata": {
      "needs_background": "light"
     },
     "output_type": "display_data"
    }
   ],
   "source": [
    "#total words\n",
    "sns.distplot(new_df[new_df['is_duplicate']==0]['words_total'],label='Not duplicate')\n",
    "sns.distplot(new_df[new_df['is_duplicate']==1]['words_total'],label='Duplicate')\n",
    "plt.legend()\n",
    "plt.show()"
   ]
  },
  {
   "cell_type": "code",
   "execution_count": 63,
   "id": "cf5c1259",
   "metadata": {},
   "outputs": [
    {
     "data": {
      "image/png": "[encoded data removed]",
      "text/plain": [
       "<Figure size 432x288 with 1 Axes>"
      ]
     },
     "metadata": {
      "needs_background": "light"
     },
     "output_type": "display_data"
    }
   ],
   "source": [
    "#word share\n",
    "sns.distplot(new_df[new_df['is_duplicate']==0]['word_share'],label='Not duplicate')\n",
    "sns.distplot(new_df[new_df['is_duplicate']==1]['word_share'],label='Duplicate')\n",
    "plt.legend()\n",
    "plt.show()"
   ]
  },
  {
   "cell_type": "code",
   "execution_count": 85,
   "id": "3ba2176f",
   "metadata": {},
   "outputs": [
    {
     "data": {
      "text/html": [
       "<div>\n",
       "<style scoped>\n",
       "    .dataframe tbody tr th:only-of-type {\n",
       "        vertical-align: middle;\n",
       "    }\n",
       "\n",
       "    .dataframe tbody tr th {\n",
       "        vertical-align: top;\n",
       "    }\n",
       "\n",
       "    .dataframe thead th {\n",
       "        text-align: right;\n",
       "    }\n",
       "</style>\n",
       "<table border=\"1\" class=\"dataframe\">\n",
       "  <thead>\n",
       "    <tr style=\"text-align: right;\">\n",
       "      <th></th>\n",
       "      <th>question1</th>\n",
       "      <th>question2</th>\n",
       "    </tr>\n",
       "  </thead>\n",
       "  <tbody>\n",
       "    <tr>\n",
       "      <th>339499</th>\n",
       "      <td>Why was Cyrus Mistry removed as the Chairman o...</td>\n",
       "      <td>Why did the Tata Sons sacked Cyrus Mistry?</td>\n",
       "    </tr>\n",
       "    <tr>\n",
       "      <th>289521</th>\n",
       "      <td>By what age would you think a man should be ma...</td>\n",
       "      <td>When my wrist is extended I feel a shock and b...</td>\n",
       "    </tr>\n",
       "    <tr>\n",
       "      <th>4665</th>\n",
       "      <td>How would an arbitrageur seek to capitalize gi...</td>\n",
       "      <td>How would an arbitrageur seek to capitalize gi...</td>\n",
       "    </tr>\n",
       "    <tr>\n",
       "      <th>54203</th>\n",
       "      <td>Why did Quora mark my question as incomplete?</td>\n",
       "      <td>Why does Quora detect my question as an incomp...</td>\n",
       "    </tr>\n",
       "    <tr>\n",
       "      <th>132566</th>\n",
       "      <td>What is it like working with Pivotal Labs as a...</td>\n",
       "      <td>What's it like to work at Pivotal Labs?</td>\n",
       "    </tr>\n",
       "  </tbody>\n",
       "</table>\n",
       "</div>"
      ],
      "text/plain": [
       "                                                question1  \\\n",
       "339499  Why was Cyrus Mistry removed as the Chairman o...   \n",
       "289521  By what age would you think a man should be ma...   \n",
       "4665    How would an arbitrageur seek to capitalize gi...   \n",
       "54203       Why did Quora mark my question as incomplete?   \n",
       "132566  What is it like working with Pivotal Labs as a...   \n",
       "\n",
       "                                                question2  \n",
       "339499         Why did the Tata Sons sacked Cyrus Mistry?  \n",
       "289521  When my wrist is extended I feel a shock and b...  \n",
       "4665    How would an arbitrageur seek to capitalize gi...  \n",
       "54203   Why does Quora detect my question as an incomp...  \n",
       "132566            What's it like to work at Pivotal Labs?  "
      ]
     },
     "execution_count": 85,
     "metadata": {},
     "output_type": "execute_result"
    }
   ],
   "source": [
    "ques_df = new_df[['question1','question2']]\n",
    "ques_df.head()"
   ]
  },
  {
   "cell_type": "code",
   "execution_count": 86,
   "id": "e945953a",
   "metadata": {},
   "outputs": [
    {
     "data": {
      "text/plain": [
       "(30000, 2)"
      ]
     },
     "execution_count": 86,
     "metadata": {},
     "output_type": "execute_result"
    }
   ],
   "source": [
    "ques_df.shape"
   ]
  },
  {
   "cell_type": "code",
   "execution_count": 83,
   "id": "18ba6892",
   "metadata": {},
   "outputs": [
    {
     "data": {
      "text/html": [
       "<div>\n",
       "<style scoped>\n",
       "    .dataframe tbody tr th:only-of-type {\n",
       "        vertical-align: middle;\n",
       "    }\n",
       "\n",
       "    .dataframe tbody tr th {\n",
       "        vertical-align: top;\n",
       "    }\n",
       "\n",
       "    .dataframe thead th {\n",
       "        text-align: right;\n",
       "    }\n",
       "</style>\n",
       "<table border=\"1\" class=\"dataframe\">\n",
       "  <thead>\n",
       "    <tr style=\"text-align: right;\">\n",
       "      <th></th>\n",
       "      <th>is_duplicate</th>\n",
       "      <th>q1_len</th>\n",
       "      <th>q2_len</th>\n",
       "      <th>q1_num_words</th>\n",
       "      <th>q2_num_words</th>\n",
       "      <th>words_common</th>\n",
       "      <th>words_total</th>\n",
       "      <th>word_share</th>\n",
       "    </tr>\n",
       "  </thead>\n",
       "  <tbody>\n",
       "    <tr>\n",
       "      <th>339499</th>\n",
       "      <td>1</td>\n",
       "      <td>58</td>\n",
       "      <td>42</td>\n",
       "      <td>11</td>\n",
       "      <td>8</td>\n",
       "      <td>17</td>\n",
       "      <td>37</td>\n",
       "      <td>0.46</td>\n",
       "    </tr>\n",
       "    <tr>\n",
       "      <th>289521</th>\n",
       "      <td>0</td>\n",
       "      <td>52</td>\n",
       "      <td>105</td>\n",
       "      <td>11</td>\n",
       "      <td>22</td>\n",
       "      <td>20</td>\n",
       "      <td>44</td>\n",
       "      <td>0.45</td>\n",
       "    </tr>\n",
       "    <tr>\n",
       "      <th>4665</th>\n",
       "      <td>0</td>\n",
       "      <td>125</td>\n",
       "      <td>124</td>\n",
       "      <td>24</td>\n",
       "      <td>24</td>\n",
       "      <td>33</td>\n",
       "      <td>66</td>\n",
       "      <td>0.50</td>\n",
       "    </tr>\n",
       "    <tr>\n",
       "      <th>54203</th>\n",
       "      <td>1</td>\n",
       "      <td>45</td>\n",
       "      <td>60</td>\n",
       "      <td>8</td>\n",
       "      <td>10</td>\n",
       "      <td>20</td>\n",
       "      <td>41</td>\n",
       "      <td>0.49</td>\n",
       "    </tr>\n",
       "    <tr>\n",
       "      <th>132566</th>\n",
       "      <td>0</td>\n",
       "      <td>54</td>\n",
       "      <td>39</td>\n",
       "      <td>11</td>\n",
       "      <td>8</td>\n",
       "      <td>16</td>\n",
       "      <td>36</td>\n",
       "      <td>0.44</td>\n",
       "    </tr>\n",
       "  </tbody>\n",
       "</table>\n",
       "</div>"
      ],
      "text/plain": [
       "        is_duplicate  q1_len  q2_len  q1_num_words  q2_num_words  \\\n",
       "339499             1      58      42            11             8   \n",
       "289521             0      52     105            11            22   \n",
       "4665               0     125     124            24            24   \n",
       "54203              1      45      60             8            10   \n",
       "132566             0      54      39            11             8   \n",
       "\n",
       "        words_common  words_total  word_share  \n",
       "339499            17           37        0.46  \n",
       "289521            20           44        0.45  \n",
       "4665              33           66        0.50  \n",
       "54203             20           41        0.49  \n",
       "132566            16           36        0.44  "
      ]
     },
     "execution_count": 83,
     "metadata": {},
     "output_type": "execute_result"
    }
   ],
   "source": [
    "final_df = new_df.drop(columns=['id','qid1','qid2','question1','question2'])\n",
    "final_df.head()"
   ]
  },
  {
   "cell_type": "code",
   "execution_count": 84,
   "id": "f9fe3e71",
   "metadata": {},
   "outputs": [
    {
     "data": {
      "text/plain": [
       "(30000, 8)"
      ]
     },
     "execution_count": 84,
     "metadata": {},
     "output_type": "execute_result"
    }
   ],
   "source": [
    "final_df.shape"
   ]
  },
  {
   "cell_type": "code",
   "execution_count": 87,
   "id": "ae3810d2",
   "metadata": {},
   "outputs": [],
   "source": [
    "from sklearn.feature_extraction.text import CountVectorizer\n",
    "cv=CountVectorizer(max_features=3000)\n",
    "\n",
    "question = list(ques_df['question1']) + list(ques_df['question2'])"
   ]
  },
  {
   "cell_type": "code",
   "execution_count": 88,
   "id": "6a2d1943",
   "metadata": {},
   "outputs": [],
   "source": [
    "q1_arr,q2_arr = np.vsplit(cv.fit_transform(question).toarray(),2)"
   ]
  },
  {
   "cell_type": "code",
   "execution_count": 89,
   "id": "86d689db",
   "metadata": {},
   "outputs": [
    {
     "data": {
      "text/plain": [
       "(30000, 3000)"
      ]
     },
     "execution_count": 89,
     "metadata": {},
     "output_type": "execute_result"
    }
   ],
   "source": [
    "q1_arr.shape"
   ]
  },
  {
   "cell_type": "code",
   "execution_count": 90,
   "id": "982470bf",
   "metadata": {},
   "outputs": [],
   "source": [
    "temp_df1 = pd.DataFrame(q1_arr,index=ques_df.index)\n",
    "temp_df2 = pd.DataFrame(q2_arr,index=ques_df.index)\n",
    "temp_df = pd.concat([temp_df1,temp_df2],axis=1)"
   ]
  },
  {
   "cell_type": "code",
   "execution_count": 91,
   "id": "5dfd3e6f",
   "metadata": {},
   "outputs": [
    {
     "data": {
      "text/html": [
       "<div>\n",
       "<style scoped>\n",
       "    .dataframe tbody tr th:only-of-type {\n",
       "        vertical-align: middle;\n",
       "    }\n",
       "\n",
       "    .dataframe tbody tr th {\n",
       "        vertical-align: top;\n",
       "    }\n",
       "\n",
       "    .dataframe thead th {\n",
       "        text-align: right;\n",
       "    }\n",
       "</style>\n",
       "<table border=\"1\" class=\"dataframe\">\n",
       "  <thead>\n",
       "    <tr style=\"text-align: right;\">\n",
       "      <th></th>\n",
       "      <th>0</th>\n",
       "      <th>1</th>\n",
       "      <th>2</th>\n",
       "      <th>3</th>\n",
       "      <th>4</th>\n",
       "      <th>5</th>\n",
       "      <th>6</th>\n",
       "      <th>7</th>\n",
       "      <th>8</th>\n",
       "      <th>9</th>\n",
       "      <th>...</th>\n",
       "      <th>2990</th>\n",
       "      <th>2991</th>\n",
       "      <th>2992</th>\n",
       "      <th>2993</th>\n",
       "      <th>2994</th>\n",
       "      <th>2995</th>\n",
       "      <th>2996</th>\n",
       "      <th>2997</th>\n",
       "      <th>2998</th>\n",
       "      <th>2999</th>\n",
       "    </tr>\n",
       "  </thead>\n",
       "  <tbody>\n",
       "    <tr>\n",
       "      <th>339499</th>\n",
       "      <td>0</td>\n",
       "      <td>0</td>\n",
       "      <td>0</td>\n",
       "      <td>0</td>\n",
       "      <td>0</td>\n",
       "      <td>0</td>\n",
       "      <td>0</td>\n",
       "      <td>0</td>\n",
       "      <td>0</td>\n",
       "      <td>0</td>\n",
       "      <td>...</td>\n",
       "      <td>0</td>\n",
       "      <td>0</td>\n",
       "      <td>0</td>\n",
       "      <td>0</td>\n",
       "      <td>0</td>\n",
       "      <td>0</td>\n",
       "      <td>0</td>\n",
       "      <td>0</td>\n",
       "      <td>0</td>\n",
       "      <td>0</td>\n",
       "    </tr>\n",
       "    <tr>\n",
       "      <th>289521</th>\n",
       "      <td>0</td>\n",
       "      <td>0</td>\n",
       "      <td>0</td>\n",
       "      <td>0</td>\n",
       "      <td>0</td>\n",
       "      <td>0</td>\n",
       "      <td>0</td>\n",
       "      <td>0</td>\n",
       "      <td>0</td>\n",
       "      <td>0</td>\n",
       "      <td>...</td>\n",
       "      <td>0</td>\n",
       "      <td>0</td>\n",
       "      <td>0</td>\n",
       "      <td>0</td>\n",
       "      <td>0</td>\n",
       "      <td>0</td>\n",
       "      <td>0</td>\n",
       "      <td>0</td>\n",
       "      <td>0</td>\n",
       "      <td>0</td>\n",
       "    </tr>\n",
       "    <tr>\n",
       "      <th>4665</th>\n",
       "      <td>0</td>\n",
       "      <td>0</td>\n",
       "      <td>0</td>\n",
       "      <td>0</td>\n",
       "      <td>0</td>\n",
       "      <td>0</td>\n",
       "      <td>0</td>\n",
       "      <td>0</td>\n",
       "      <td>0</td>\n",
       "      <td>0</td>\n",
       "      <td>...</td>\n",
       "      <td>0</td>\n",
       "      <td>0</td>\n",
       "      <td>0</td>\n",
       "      <td>0</td>\n",
       "      <td>0</td>\n",
       "      <td>0</td>\n",
       "      <td>0</td>\n",
       "      <td>0</td>\n",
       "      <td>0</td>\n",
       "      <td>0</td>\n",
       "    </tr>\n",
       "    <tr>\n",
       "      <th>54203</th>\n",
       "      <td>0</td>\n",
       "      <td>0</td>\n",
       "      <td>0</td>\n",
       "      <td>0</td>\n",
       "      <td>0</td>\n",
       "      <td>0</td>\n",
       "      <td>0</td>\n",
       "      <td>0</td>\n",
       "      <td>0</td>\n",
       "      <td>0</td>\n",
       "      <td>...</td>\n",
       "      <td>0</td>\n",
       "      <td>0</td>\n",
       "      <td>0</td>\n",
       "      <td>0</td>\n",
       "      <td>0</td>\n",
       "      <td>0</td>\n",
       "      <td>0</td>\n",
       "      <td>0</td>\n",
       "      <td>0</td>\n",
       "      <td>0</td>\n",
       "    </tr>\n",
       "    <tr>\n",
       "      <th>132566</th>\n",
       "      <td>0</td>\n",
       "      <td>0</td>\n",
       "      <td>0</td>\n",
       "      <td>0</td>\n",
       "      <td>0</td>\n",
       "      <td>0</td>\n",
       "      <td>0</td>\n",
       "      <td>0</td>\n",
       "      <td>0</td>\n",
       "      <td>0</td>\n",
       "      <td>...</td>\n",
       "      <td>0</td>\n",
       "      <td>0</td>\n",
       "      <td>0</td>\n",
       "      <td>0</td>\n",
       "      <td>0</td>\n",
       "      <td>0</td>\n",
       "      <td>0</td>\n",
       "      <td>0</td>\n",
       "      <td>0</td>\n",
       "      <td>0</td>\n",
       "    </tr>\n",
       "  </tbody>\n",
       "</table>\n",
       "<p>5 rows × 6000 columns</p>\n",
       "</div>"
      ],
      "text/plain": [
       "        0     1     2     3     4     5     6     7     8     9     ...  2990  \\\n",
       "339499     0     0     0     0     0     0     0     0     0     0  ...     0   \n",
       "289521     0     0     0     0     0     0     0     0     0     0  ...     0   \n",
       "4665       0     0     0     0     0     0     0     0     0     0  ...     0   \n",
       "54203      0     0     0     0     0     0     0     0     0     0  ...     0   \n",
       "132566     0     0     0     0     0     0     0     0     0     0  ...     0   \n",
       "\n",
       "        2991  2992  2993  2994  2995  2996  2997  2998  2999  \n",
       "339499     0     0     0     0     0     0     0     0     0  \n",
       "289521     0     0     0     0     0     0     0     0     0  \n",
       "4665       0     0     0     0     0     0     0     0     0  \n",
       "54203      0     0     0     0     0     0     0     0     0  \n",
       "132566     0     0     0     0     0     0     0     0     0  \n",
       "\n",
       "[5 rows x 6000 columns]"
      ]
     },
     "execution_count": 91,
     "metadata": {},
     "output_type": "execute_result"
    }
   ],
   "source": [
    "temp_df.head()"
   ]
  },
  {
   "cell_type": "code",
   "execution_count": 92,
   "id": "e2c1a14c",
   "metadata": {},
   "outputs": [
    {
     "data": {
      "text/plain": [
       "(30000, 6000)"
      ]
     },
     "execution_count": 92,
     "metadata": {},
     "output_type": "execute_result"
    }
   ],
   "source": [
    "temp_df.shape"
   ]
  },
  {
   "cell_type": "code",
   "execution_count": 93,
   "id": "11bfc0ad",
   "metadata": {},
   "outputs": [
    {
     "data": {
      "text/plain": [
       "(30000, 6008)"
      ]
     },
     "execution_count": 93,
     "metadata": {},
     "output_type": "execute_result"
    }
   ],
   "source": [
    "final_df = pd.concat([final_df,temp_df],axis=1)\n",
    "final_df.shape"
   ]
  },
  {
   "cell_type": "code",
   "execution_count": 79,
   "id": "3245fc33",
   "metadata": {},
   "outputs": [
    {
     "data": {
      "text/html": [
       "<div>\n",
       "<style scoped>\n",
       "    .dataframe tbody tr th:only-of-type {\n",
       "        vertical-align: middle;\n",
       "    }\n",
       "\n",
       "    .dataframe tbody tr th {\n",
       "        vertical-align: top;\n",
       "    }\n",
       "\n",
       "    .dataframe thead th {\n",
       "        text-align: right;\n",
       "    }\n",
       "</style>\n",
       "<table border=\"1\" class=\"dataframe\">\n",
       "  <thead>\n",
       "    <tr style=\"text-align: right;\">\n",
       "      <th></th>\n",
       "      <th>is_duplicate</th>\n",
       "      <th>q1_len</th>\n",
       "      <th>q2_len</th>\n",
       "      <th>q1_num_words</th>\n",
       "      <th>q2_num_words</th>\n",
       "      <th>words_common</th>\n",
       "      <th>words_total</th>\n",
       "      <th>word_share</th>\n",
       "      <th>0</th>\n",
       "      <th>1</th>\n",
       "      <th>...</th>\n",
       "      <th>2990</th>\n",
       "      <th>2991</th>\n",
       "      <th>2992</th>\n",
       "      <th>2993</th>\n",
       "      <th>2994</th>\n",
       "      <th>2995</th>\n",
       "      <th>2996</th>\n",
       "      <th>2997</th>\n",
       "      <th>2998</th>\n",
       "      <th>2999</th>\n",
       "    </tr>\n",
       "  </thead>\n",
       "  <tbody>\n",
       "    <tr>\n",
       "      <th>339499</th>\n",
       "      <td>1</td>\n",
       "      <td>58</td>\n",
       "      <td>42</td>\n",
       "      <td>11</td>\n",
       "      <td>8</td>\n",
       "      <td>17</td>\n",
       "      <td>37</td>\n",
       "      <td>0.46</td>\n",
       "      <td>0</td>\n",
       "      <td>0</td>\n",
       "      <td>...</td>\n",
       "      <td>0</td>\n",
       "      <td>0</td>\n",
       "      <td>0</td>\n",
       "      <td>0</td>\n",
       "      <td>0</td>\n",
       "      <td>0</td>\n",
       "      <td>0</td>\n",
       "      <td>0</td>\n",
       "      <td>0</td>\n",
       "      <td>0</td>\n",
       "    </tr>\n",
       "    <tr>\n",
       "      <th>289521</th>\n",
       "      <td>0</td>\n",
       "      <td>52</td>\n",
       "      <td>105</td>\n",
       "      <td>11</td>\n",
       "      <td>22</td>\n",
       "      <td>20</td>\n",
       "      <td>44</td>\n",
       "      <td>0.45</td>\n",
       "      <td>0</td>\n",
       "      <td>0</td>\n",
       "      <td>...</td>\n",
       "      <td>0</td>\n",
       "      <td>0</td>\n",
       "      <td>0</td>\n",
       "      <td>0</td>\n",
       "      <td>0</td>\n",
       "      <td>0</td>\n",
       "      <td>0</td>\n",
       "      <td>0</td>\n",
       "      <td>0</td>\n",
       "      <td>0</td>\n",
       "    </tr>\n",
       "    <tr>\n",
       "      <th>4665</th>\n",
       "      <td>0</td>\n",
       "      <td>125</td>\n",
       "      <td>124</td>\n",
       "      <td>24</td>\n",
       "      <td>24</td>\n",
       "      <td>33</td>\n",
       "      <td>66</td>\n",
       "      <td>0.50</td>\n",
       "      <td>0</td>\n",
       "      <td>0</td>\n",
       "      <td>...</td>\n",
       "      <td>0</td>\n",
       "      <td>0</td>\n",
       "      <td>0</td>\n",
       "      <td>0</td>\n",
       "      <td>0</td>\n",
       "      <td>0</td>\n",
       "      <td>0</td>\n",
       "      <td>0</td>\n",
       "      <td>0</td>\n",
       "      <td>0</td>\n",
       "    </tr>\n",
       "    <tr>\n",
       "      <th>54203</th>\n",
       "      <td>1</td>\n",
       "      <td>45</td>\n",
       "      <td>60</td>\n",
       "      <td>8</td>\n",
       "      <td>10</td>\n",
       "      <td>20</td>\n",
       "      <td>41</td>\n",
       "      <td>0.49</td>\n",
       "      <td>0</td>\n",
       "      <td>0</td>\n",
       "      <td>...</td>\n",
       "      <td>0</td>\n",
       "      <td>0</td>\n",
       "      <td>0</td>\n",
       "      <td>0</td>\n",
       "      <td>0</td>\n",
       "      <td>0</td>\n",
       "      <td>0</td>\n",
       "      <td>0</td>\n",
       "      <td>0</td>\n",
       "      <td>0</td>\n",
       "    </tr>\n",
       "    <tr>\n",
       "      <th>132566</th>\n",
       "      <td>0</td>\n",
       "      <td>54</td>\n",
       "      <td>39</td>\n",
       "      <td>11</td>\n",
       "      <td>8</td>\n",
       "      <td>16</td>\n",
       "      <td>36</td>\n",
       "      <td>0.44</td>\n",
       "      <td>0</td>\n",
       "      <td>0</td>\n",
       "      <td>...</td>\n",
       "      <td>0</td>\n",
       "      <td>0</td>\n",
       "      <td>0</td>\n",
       "      <td>0</td>\n",
       "      <td>0</td>\n",
       "      <td>0</td>\n",
       "      <td>0</td>\n",
       "      <td>0</td>\n",
       "      <td>0</td>\n",
       "      <td>0</td>\n",
       "    </tr>\n",
       "  </tbody>\n",
       "</table>\n",
       "<p>5 rows × 12008 columns</p>\n",
       "</div>"
      ],
      "text/plain": [
       "        is_duplicate  q1_len  q2_len  q1_num_words  q2_num_words  \\\n",
       "339499             1      58      42            11             8   \n",
       "289521             0      52     105            11            22   \n",
       "4665               0     125     124            24            24   \n",
       "54203              1      45      60             8            10   \n",
       "132566             0      54      39            11             8   \n",
       "\n",
       "        words_common  words_total  word_share  0  1  ...  2990  2991  2992  \\\n",
       "339499            17           37        0.46  0  0  ...     0     0     0   \n",
       "289521            20           44        0.45  0  0  ...     0     0     0   \n",
       "4665              33           66        0.50  0  0  ...     0     0     0   \n",
       "54203             20           41        0.49  0  0  ...     0     0     0   \n",
       "132566            16           36        0.44  0  0  ...     0     0     0   \n",
       "\n",
       "        2993  2994  2995  2996  2997  2998  2999  \n",
       "339499     0     0     0     0     0     0     0  \n",
       "289521     0     0     0     0     0     0     0  \n",
       "4665       0     0     0     0     0     0     0  \n",
       "54203      0     0     0     0     0     0     0  \n",
       "132566     0     0     0     0     0     0     0  \n",
       "\n",
       "[5 rows x 12008 columns]"
      ]
     },
     "execution_count": 79,
     "metadata": {},
     "output_type": "execute_result"
    }
   ],
   "source": [
    "final_df.head()"
   ]
  },
  {
   "cell_type": "code",
   "execution_count": 101,
   "id": "435d8ee1",
   "metadata": {},
   "outputs": [],
   "source": [
    "from sklearn.model_selection import train_test_split\n",
    "x_train,x_test,y_train,y_test = train_test_split(final_df.iloc[:,1:].values,final_df.iloc[:,0].values,test_size=0.2,random_state=1)"
   ]
  },
  {
   "cell_type": "code",
   "execution_count": 102,
   "id": "3b9592f1",
   "metadata": {},
   "outputs": [
    {
     "data": {
      "text/plain": [
       "0.7531666666666667"
      ]
     },
     "execution_count": 102,
     "metadata": {},
     "output_type": "execute_result"
    }
   ],
   "source": [
    "from sklearn.ensemble import RandomForestClassifier\n",
    "from sklearn.metrics import accuracy_score\n",
    "rf = RandomForestClassifier()\n",
    "rf.fit(x_train,y_train)\n",
    "y_pred = rf.predict(x_test)\n",
    "accuracy_score(y_test,y_pred)"
   ]
  },
  {
   "cell_type": "code",
   "execution_count": 103,
   "id": "75a6caa5",
   "metadata": {},
   "outputs": [
    {
     "data": {
      "text/plain": [
       "0.7531666666666667"
      ]
     },
     "execution_count": 103,
     "metadata": {},
     "output_type": "execute_result"
    }
   ],
   "source": [
    "from xgboost import XGBClassifier\n",
    "xgb = XGBClassifier()\n",
    "xgb.fit(x_train,y_train)\n",
    "y_pred = xgb.predict(x_test)\n",
    "accuracy_score(y_test,y_pred)"
   ]
  },
  {
   "cell_type": "code",
   "execution_count": null,
   "id": "307d1637",
   "metadata": {},
   "outputs": [],
   "source": []
  }
 ],
 "metadata": {
  "kernelspec": {
   "display_name": "Python 3",
   "language": "python",
   "name": "python3"
  },
  "language_info": {
   "codemirror_mode": {
    "name": "ipython",
    "version": 3
   },
   "file_extension": ".py",
   "mimetype": "text/x-python",
   "name": "python",
   "nbconvert_exporter": "python",
   "pygments_lexer": "ipython3",
   "version": "3.8.8"
  }
 },
 "nbformat": 4,
 "nbformat_minor": 5
}
